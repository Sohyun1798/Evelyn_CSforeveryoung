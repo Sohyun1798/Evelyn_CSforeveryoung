{
 "cells": [
  {
   "cell_type": "code",
   "execution_count": 8,
   "metadata": {},
   "outputs": [],
   "source": [
    "import numpy as np\n",
    "import math"
   ]
  },
  {
   "cell_type": "code",
   "execution_count": 11,
   "metadata": {},
   "outputs": [
    {
     "name": "stdout",
     "output_type": "stream",
     "text": [
      "3\n",
      "{'a': '0b0', 'e': '0b1', 'c': '0b10', 'd': '0b11', 'b': '0b100'}\n"
     ]
    }
   ],
   "source": [
    "def huffman_encoding(words):\n",
    "    tokens = set(words)\n",
    "    encoding_value = dict()\n",
    "    \n",
    "    temp = np.log2(len(tokens))\n",
    "    tree_depth = math.ceil(temp)\n",
    "    \n",
    "    i = 0\n",
    "    \n",
    "    for token in tokens:\n",
    "        encoding_value[token] = bin(i)\n",
    "        i=i+1\n",
    "        \n",
    "    return tree_depth, encoding_value\n",
    "\n",
    "words = ['a','b','c','d','e']\n",
    "p , q = huffman_encoding(words)\n",
    "print(p)\n",
    "print(q)"
   ]
  },
  {
   "cell_type": "code",
   "execution_count": null,
   "metadata": {},
   "outputs": [],
   "source": [
    "def hierarchical_softmax():\n",
    "    pass\n",
    "    return cost, grad"
   ]
  }
 ],
 "metadata": {
  "kernelspec": {
   "display_name": "Python 3",
   "language": "python",
   "name": "python3"
  },
  "language_info": {
   "codemirror_mode": {
    "name": "ipython",
    "version": 3
   },
   "file_extension": ".py",
   "mimetype": "text/x-python",
   "name": "python",
   "nbconvert_exporter": "python",
   "pygments_lexer": "ipython3",
   "version": "3.7.0"
  }
 },
 "nbformat": 4,
 "nbformat_minor": 2
}
